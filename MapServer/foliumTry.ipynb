{
 "cells": [
  {
   "cell_type": "code",
   "execution_count": 12,
   "metadata": {
    "collapsed": true,
    "ExecuteTime": {
     "end_time": "2023-07-19T07:57:35.717151Z",
     "start_time": "2023-07-19T07:57:35.711184Z"
    }
   },
   "outputs": [],
   "source": [
    "# From 故宫 To 圆明园"
   ]
  },
  {
   "cell_type": "code",
   "execution_count": 13,
   "outputs": [
    {
     "data": {
      "text/plain": "<folium.folium.Map at 0x7f819dbdea40>",
      "text/html": "<div style=\"width:100%;\"><div style=\"position:relative;width:100%;height:0;padding-bottom:60%;\"><span style=\"color:#565656\">Make this Notebook Trusted to load map: File -> Trust Notebook</span><iframe srcdoc=\"&lt;!DOCTYPE html&gt;\n&lt;html&gt;\n&lt;head&gt;\n    \n    &lt;meta http-equiv=&quot;content-type&quot; content=&quot;text/html; charset=UTF-8&quot; /&gt;\n    \n        &lt;script&gt;\n            L_NO_TOUCH = false;\n            L_DISABLE_3D = false;\n        &lt;/script&gt;\n    \n    &lt;style&gt;html, body {width: 100%;height: 100%;margin: 0;padding: 0;}&lt;/style&gt;\n    &lt;style&gt;#map {position:absolute;top:0;bottom:0;right:0;left:0;}&lt;/style&gt;\n    &lt;script src=&quot;https://cdn.jsdelivr.net/npm/leaflet@1.9.3/dist/leaflet.js&quot;&gt;&lt;/script&gt;\n    &lt;script src=&quot;https://code.jquery.com/jquery-1.12.4.min.js&quot;&gt;&lt;/script&gt;\n    &lt;script src=&quot;https://cdn.jsdelivr.net/npm/bootstrap@5.2.2/dist/js/bootstrap.bundle.min.js&quot;&gt;&lt;/script&gt;\n    &lt;script src=&quot;https://cdnjs.cloudflare.com/ajax/libs/Leaflet.awesome-markers/2.0.2/leaflet.awesome-markers.js&quot;&gt;&lt;/script&gt;\n    &lt;link rel=&quot;stylesheet&quot; href=&quot;https://cdn.jsdelivr.net/npm/leaflet@1.9.3/dist/leaflet.css&quot;/&gt;\n    &lt;link rel=&quot;stylesheet&quot; href=&quot;https://cdn.jsdelivr.net/npm/bootstrap@5.2.2/dist/css/bootstrap.min.css&quot;/&gt;\n    &lt;link rel=&quot;stylesheet&quot; href=&quot;https://netdna.bootstrapcdn.com/bootstrap/3.0.0/css/bootstrap.min.css&quot;/&gt;\n    &lt;link rel=&quot;stylesheet&quot; href=&quot;https://cdn.jsdelivr.net/npm/@fortawesome/fontawesome-free@6.2.0/css/all.min.css&quot;/&gt;\n    &lt;link rel=&quot;stylesheet&quot; href=&quot;https://cdnjs.cloudflare.com/ajax/libs/Leaflet.awesome-markers/2.0.2/leaflet.awesome-markers.css&quot;/&gt;\n    &lt;link rel=&quot;stylesheet&quot; href=&quot;https://cdn.jsdelivr.net/gh/python-visualization/folium/folium/templates/leaflet.awesome.rotate.min.css&quot;/&gt;\n    \n            &lt;meta name=&quot;viewport&quot; content=&quot;width=device-width,\n                initial-scale=1.0, maximum-scale=1.0, user-scalable=no&quot; /&gt;\n            &lt;style&gt;\n                #map_996f5f055ea5676fd1ca2904e6d18074 {\n                    position: relative;\n                    width: 100.0%;\n                    height: 100.0%;\n                    left: 0.0%;\n                    top: 0.0%;\n                }\n                .leaflet-container { font-size: 1rem; }\n            &lt;/style&gt;\n        \n&lt;/head&gt;\n&lt;body&gt;\n    \n    \n            &lt;div class=&quot;folium-map&quot; id=&quot;map_996f5f055ea5676fd1ca2904e6d18074&quot; &gt;&lt;/div&gt;\n        \n&lt;/body&gt;\n&lt;script&gt;\n    \n    \n            var map_996f5f055ea5676fd1ca2904e6d18074 = L.map(\n                &quot;map_996f5f055ea5676fd1ca2904e6d18074&quot;,\n                {\n                    center: [39.9087, 116.3974],\n                    crs: L.CRS.EPSG3857,\n                    zoom: 14,\n                    zoomControl: false,\n                    preferCanvas: false,\n                }\n            );\n\n            \n\n        \n    \n            var tile_layer_4250622ec252c8cbb70c09537657ac40 = L.tileLayer(\n                &quot;https://{s}.tile.openstreetmap.org/{z}/{x}/{y}.png&quot;,\n                {&quot;attribution&quot;: &quot;Data by \\u0026copy; \\u003ca target=\\&quot;_blank\\&quot; href=\\&quot;http://openstreetmap.org\\&quot;\\u003eOpenStreetMap\\u003c/a\\u003e, under \\u003ca target=\\&quot;_blank\\&quot; href=\\&quot;http://www.openstreetmap.org/copyright\\&quot;\\u003eODbL\\u003c/a\\u003e.&quot;, &quot;detectRetina&quot;: false, &quot;maxNativeZoom&quot;: 18, &quot;maxZoom&quot;: 18, &quot;minZoom&quot;: 0, &quot;noWrap&quot;: false, &quot;opacity&quot;: 1, &quot;subdomains&quot;: &quot;abc&quot;, &quot;tms&quot;: false}\n            ).addTo(map_996f5f055ea5676fd1ca2904e6d18074);\n        \n    \n            var marker_56edd6afda737dd4c5fc93c25ad727ae = L.marker(\n                [39.9087, 116.3974],\n                {}\n            ).addTo(map_996f5f055ea5676fd1ca2904e6d18074);\n        \n    \n        var popup_0cd344746a71a43ec2c44effea15d52a = L.popup({&quot;maxWidth&quot;: &quot;100%&quot;});\n\n        \n            \n                var html_e10f569a6bfd6b521f95c48d56c17b26 = $(`&lt;div id=&quot;html_e10f569a6bfd6b521f95c48d56c17b26&quot; style=&quot;width: 100.0%; height: 100.0%;&quot;&gt;故宫&lt;/div&gt;`)[0];\n                popup_0cd344746a71a43ec2c44effea15d52a.setContent(html_e10f569a6bfd6b521f95c48d56c17b26);\n            \n        \n\n        marker_56edd6afda737dd4c5fc93c25ad727ae.bindPopup(popup_0cd344746a71a43ec2c44effea15d52a)\n        ;\n\n        \n    \n    \n            var marker_2d95f48abfa05a1a2aada7f75a6aeaea = L.marker(\n                [39.9927, 116.3075],\n                {}\n            ).addTo(map_996f5f055ea5676fd1ca2904e6d18074);\n        \n    \n        var popup_24d76edfd1d01211ecbf72b37e285cf9 = L.popup({&quot;maxWidth&quot;: &quot;100%&quot;});\n\n        \n            \n                var html_a5baa0d12ec778c7abb8c59a61bcfada = $(`&lt;div id=&quot;html_a5baa0d12ec778c7abb8c59a61bcfada&quot; style=&quot;width: 100.0%; height: 100.0%;&quot;&gt;圆明园&lt;/div&gt;`)[0];\n                popup_24d76edfd1d01211ecbf72b37e285cf9.setContent(html_a5baa0d12ec778c7abb8c59a61bcfada);\n            \n        \n\n        marker_2d95f48abfa05a1a2aada7f75a6aeaea.bindPopup(popup_24d76edfd1d01211ecbf72b37e285cf9)\n        ;\n\n        \n    \n    \n            var poly_line_5c7d7320145cc0661149906ee0a244dc = L.polyline(\n                [[39.9087, 116.3974], [39.9857, 116.3264], [39.9872, 116.3302], [39.9904, 116.3288], [39.9927, 116.3075]],\n                {&quot;bubblingMouseEvents&quot;: true, &quot;color&quot;: &quot;blue&quot;, &quot;dashArray&quot;: null, &quot;dashOffset&quot;: null, &quot;fill&quot;: false, &quot;fillColor&quot;: &quot;blue&quot;, &quot;fillOpacity&quot;: 0.2, &quot;fillRule&quot;: &quot;evenodd&quot;, &quot;lineCap&quot;: &quot;round&quot;, &quot;lineJoin&quot;: &quot;round&quot;, &quot;noClip&quot;: false, &quot;opacity&quot;: 1.0, &quot;smoothFactor&quot;: 1.0, &quot;stroke&quot;: true, &quot;weight&quot;: 3}\n            ).addTo(map_996f5f055ea5676fd1ca2904e6d18074);\n        \n&lt;/script&gt;\n&lt;/html&gt;\" style=\"position:absolute;width:100%;height:100%;left:0;top:0;border:none !important;\" allowfullscreen webkitallowfullscreen mozallowfullscreen></iframe></div></div>"
     },
     "execution_count": 13,
     "metadata": {},
     "output_type": "execute_result"
    }
   ],
   "source": [
    "import folium\n",
    "\n",
    "# 创建地图对象，并禁用缩放控件\n",
    "map = folium.Map(location=[39.9087, 116.3974], zoom_start=14, zoom_control=False)\n",
    "\n",
    "# 添加起点和终点标记\n",
    "folium.Marker(location=[39.9087, 116.3974], popup='故宫').add_to(map)\n",
    "folium.Marker(location=[39.9927, 116.3075], popup='圆明园').add_to(map)\n",
    "\n",
    "# 添加路线\n",
    "path_coordinates = [[39.9087, 116.3974], [39.9857, 116.3264], [39.9872, 116.3302], [39.9904, 116.3288], [39.9927, 116.3075]]\n",
    "folium.PolyLine(locations=path_coordinates, color='blue').add_to(map)\n",
    "\n",
    "# 显示地图\n",
    "map\n"
   ],
   "metadata": {
    "collapsed": false,
    "ExecuteTime": {
     "end_time": "2023-07-19T07:57:35.752485Z",
     "start_time": "2023-07-19T07:57:35.724316Z"
    }
   }
  }
 ],
 "metadata": {
  "kernelspec": {
   "display_name": "Python 3",
   "language": "python",
   "name": "python3"
  },
  "language_info": {
   "codemirror_mode": {
    "name": "ipython",
    "version": 2
   },
   "file_extension": ".py",
   "mimetype": "text/x-python",
   "name": "python",
   "nbconvert_exporter": "python",
   "pygments_lexer": "ipython2",
   "version": "2.7.6"
  }
 },
 "nbformat": 4,
 "nbformat_minor": 0
}
